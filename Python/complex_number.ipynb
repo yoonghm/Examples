{
 "cells": [
  {
   "cell_type": "markdown",
   "metadata": {},
   "source": [
    "# Complex Number"
   ]
  },
  {
   "cell_type": "markdown",
   "metadata": {},
   "source": [
    "## Defining Complex Numbers"
   ]
  },
  {
   "cell_type": "markdown",
   "metadata": {},
   "source": [
    "Python provides complex number data type via *cmath* library which is always included.\n",
    "\n",
    "Complex number could be created using *complex([x],[y])* function or just *x+yj* where x and y are numbers."
   ]
  },
  {
   "cell_type": "code",
   "execution_count": null,
   "metadata": {},
   "outputs": [],
   "source": [
    "print(f'complex() = {complex()}')\n",
    "print(f'complex(1,3) = {complex(1,3)}')\n",
    "print(f'1-3j = {1-3j}')"
   ]
  },
  {
   "cell_type": "code",
   "execution_count": null,
   "metadata": {},
   "outputs": [],
   "source": [
    "print(f'(1+3j)/(1-3j) = {(1+3j)/(1-3j):.3f}')\n",
    "print(f'(1+3j)*(1-3j) = {(1+3j)*(1-3j):.3f}')"
   ]
  },
  {
   "cell_type": "markdown",
   "metadata": {},
   "source": [
    "Use *numpy* library if we need accuratecy in complex number calculation."
   ]
  },
  {
   "cell_type": "code",
   "execution_count": null,
   "metadata": {},
   "outputs": [],
   "source": [
    "import numpy as np\n",
    "\n",
    "print(f'(1.451+3.213)(2.341-1.987j) = {(1.451+3.213)*(2.341-1.987j)}')\n",
    "\n",
    "print(f'\\nMore accurate answer is obtained using numpy:')\n",
    "print(f'''np.complex(1.451,3.213)*np.complex(2.341,-1.987) = \\\n",
    "{np.complex(1.451,3.213)*np.complex(2.341,-1.987):.3f}''')"
   ]
  },
  {
   "cell_type": "markdown",
   "metadata": {},
   "source": [
    "## Attributes and Functions from Complex Numbers"
   ]
  },
  {
   "cell_type": "markdown",
   "metadata": {},
   "source": [
    "### ```z.real``` and ```z.imag```\n",
    "```z.real``` and ```z.imag``` return the real and imaginary parts of complex number z."
   ]
  },
  {
   "cell_type": "code",
   "execution_count": null,
   "metadata": {},
   "outputs": [],
   "source": [
    "print(f'complex(4,2).real = {complex(4,2).real}')\n",
    "print(f'complex(4,2).imag = {complex(4,2).imag}')"
   ]
  },
  {
   "cell_type": "markdown",
   "metadata": {},
   "source": [
    "### ```z.conjugate()```\n",
    "\n",
    "Conjugate of a complex number is the mirror image of the number around the real axis.\n",
    "\n",
    "Conjugate of complex number *z1 = 1 + 3j* is written as *z1&ast; = 1 - 3j*."
   ]
  },
  {
   "cell_type": "code",
   "execution_count": null,
   "metadata": {},
   "outputs": [],
   "source": [
    "z1 = 1 + 3j\n",
    "z2 = z1.conjugate()\n",
    "print(f'complex(1,3).conjugate() = {complex(1,3).conjugate()}')"
   ]
  },
  {
   "cell_type": "markdown",
   "metadata": {},
   "source": [
    "### abs(z)\n",
    "Built-in function ```abs(z)``` returns the amplitude of a complex number z."
   ]
  },
  {
   "cell_type": "code",
   "execution_count": null,
   "metadata": {},
   "outputs": [],
   "source": [
    "print(f'abs(complex(2, 2)) = {abs(complex(2, 2)):.3f}')"
   ]
  },
  {
   "cell_type": "markdown",
   "metadata": {},
   "source": [
    "## Other Functions from cmath\n",
    "\n",
    "**cmath** provides other mathematical functions for complex numbers. However you need to import **cmath** into your python code.\n",
    "\n",
    "**cmath** provides \n",
    "\n",
    "1. **phase(z)** returns the phase angle of a complex number z.\n",
    "1. **polar(z)** returns the polar form of a complex number z: *(aplitude of z, phase angle of z)*. Phase angle is in radian.\n",
    "1. **rect(z)** returns the rectangular form of a complex number z: *r &ast; (math.cos(phi) + math.sin(phi)&ast;1j)*\n"
   ]
  },
  {
   "cell_type": "markdown",
   "metadata": {},
   "source": [
    "### ```phase(z)```\n",
    "Function ```cmath.phase(z)``` returns the phase angle of a complex number z."
   ]
  },
  {
   "cell_type": "code",
   "execution_count": null,
   "metadata": {},
   "outputs": [],
   "source": [
    "print(f'cmath.phase(complex(2, 2))*180/cmath.pi = \\\n",
    "{cmath.phase(complex(2, 2))*180/cmath.pi}')"
   ]
  },
  {
   "cell_type": "markdown",
   "metadata": {},
   "source": [
    "### ```cmath.polar(z)```\n",
    "Return the polar form, i.e., (r, phi) of a complex number in rectangular form."
   ]
  },
  {
   "cell_type": "code",
   "execution_count": null,
   "metadata": {},
   "outputs": [],
   "source": [
    "import cmath\n",
    "\n",
    "r, phi = cmath.polar(complex(2, 2))\n",
    "\n",
    "print(f'Polar form of (2 + 2j) is {r:.3f} <{phi*180/cmath.pi}°')\n"
   ]
  },
  {
   "cell_type": "markdown",
   "metadata": {},
   "source": [
    "### ```cmath.rect(r, phi)```\n",
    "Return the rectangular form, i.e., x + yj of a complex number in polar form."
   ]
  },
  {
   "cell_type": "code",
   "execution_count": null,
   "metadata": {},
   "outputs": [],
   "source": [
    "print(f'cmath.rect(2.828, 45*cmath.pi/180) = \\\n",
    "{cmath.rect(2.828, 45*cmath.pi/180)}')\n",
    "print('')\n",
    "\n",
    "# To print out the value to 3 decimal points:\n",
    "z = cmath.rect(2.828, 45*cmath.pi/180)\n",
    "print(f'Rounding up:')\n",
    "print(f'x = {z.real:.3f}, y = {z.imag:.3f}')"
   ]
  },
  {
   "cell_type": "markdown",
   "metadata": {},
   "source": [
    "### cmath.exp(x)\n",
    "Return the complex number of ```e**x```. where ```x``` is radian."
   ]
  },
  {
   "cell_type": "code",
   "execution_count": null,
   "metadata": {},
   "outputs": [],
   "source": [
    "2.828*cmath.exp(45*cmath.pi/180*1j)"
   ]
  }
 ],
 "metadata": {
  "kernelspec": {
   "display_name": "Python 3",
   "language": "python",
   "name": "python3"
  },
  "language_info": {
   "codemirror_mode": {
    "name": "ipython",
    "version": 3
   },
   "file_extension": ".py",
   "mimetype": "text/x-python",
   "name": "python",
   "nbconvert_exporter": "python",
   "pygments_lexer": "ipython3",
   "version": "3.6.5"
  }
 },
 "nbformat": 4,
 "nbformat_minor": 2
}
