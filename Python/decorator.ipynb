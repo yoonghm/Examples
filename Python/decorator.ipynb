{
 "cells": [
  {
   "cell_type": "markdown",
   "metadata": {},
   "source": [
    "# Function Decorators and Closures\n",
    "\n",
    "Taken from *Fluent Python* by Luciano Ramalho, published by O'Reilly Media, Inc."
   ]
  },
  {
   "cell_type": "markdown",
   "metadata": {},
   "source": [
    "## Decorators 101\n",
    "\n",
    "A **decorator** is a callable that takes another **function as argument** (the **decorated** function). The decorator may perform some processing with the decorated function, and returns it or replaces it with another function or callable object.\n",
    "\n",
    "In other words, assuming an existing decorator named `decorate`, this code:\n",
    "\n",
    "```python\n",
    "@decorate\n",
    "def target():\n",
    "  print('running target()')\n",
    "```\n",
    "\n",
    "Has the same effect as writing this:\n",
    "\n",
    "```python\n",
    "def target():\n",
    "  print('running target()')\n",
    "    \n",
    "target = decorate(target)\n",
    "```\n",
    "\n",
    "The end result is the same: at the end of either of these snippets, the `target` name does not necessarily refer to the original `target` function, but to whatever function is returned by `decorate(target)`."
   ]
  },
  {
   "cell_type": "markdown",
   "metadata": {},
   "source": [
    "*Example 1: A decorator usually replaces a function with a different one*"
   ]
  },
  {
   "cell_type": "code",
   "execution_count": 7,
   "metadata": {},
   "outputs": [
    {
     "name": "stdout",
     "output_type": "stream",
     "text": [
      "running inner()\n"
     ]
    }
   ],
   "source": [
    "def deco(func):\n",
    "  def inner():\n",
    "    print('running inner()')\n",
    "  return inner  # deco returns its inner function\n",
    "\n",
    "@deco\n",
    "def target():  # target is decorated by deco\n",
    "  print('running target()')\n",
    "\n",
    "target    # See what it points to\n",
    "target()  # It actually runs inner"
   ]
  },
  {
   "cell_type": "markdown",
   "metadata": {},
   "source": [
    "## When does Python execute decorators?\n",
    "\n",
    "Decorated function is executed right after it is defined, this is usually at *import time*, i.e., when a module is loaded by Python.\n",
    "\n",
    "In the example 2 below, the decorator `register()` run (twice) before any other function in the module.  However, the decorated functions `f1()` and `f2()` only  run whey they are explicitly invoked.  This is the difference between what Pythonistas call `import time` and `runtime`."
   ]
  },
  {
   "cell_type": "markdown",
   "metadata": {},
   "source": [
    "*Example 2: The registration.py module*"
   ]
  },
  {
   "cell_type": "code",
   "execution_count": 9,
   "metadata": {},
   "outputs": [
    {
     "name": "stdout",
     "output_type": "stream",
     "text": [
      "running register(<function f1 at 0x000001BFD82C2AE8>)\n",
      "running register(<function f2 at 0x000001BFD83711E0>)\n",
      "running main()\n",
      "register -> [<function f1 at 0x000001BFD82C2AE8>, <function f2 at 0x000001BFD83711E0>]\n",
      "running f1()\n",
      "running f2()\n",
      "running f3()\n"
     ]
    }
   ],
   "source": [
    "registry = []  # hold references to functions decorated by @register\n",
    "\n",
    "def register(func):  # takes a function as argument\n",
    "  print('running register(%s)' % func)  # show what function is being decorated\n",
    "  registry.append(func)  # append func into registry\n",
    "  return func  # Must return a function for the decorated function\n",
    "\n",
    "@register  # decorate the next function f1()\n",
    "def f1():\n",
    "  print('running f1()')\n",
    "\n",
    "@register  # decorate the next function f2()\n",
    "def f2():\n",
    "  print('running f2()')\n",
    "\n",
    "def f3():  # function f3() is not decorated\n",
    "  print('running f3()')\n",
    "\n",
    "def main():\n",
    "  print('running main()')\n",
    "  print('register ->', registry)\n",
    "  f1()\n",
    "  f2()\n",
    "  f3()\n",
    "\n",
    "if __name__ == '__main__':\n",
    "  main()"
   ]
  },
  {
   "cell_type": "code",
   "execution_count": null,
   "metadata": {},
   "outputs": [],
   "source": []
  }
 ],
 "metadata": {
  "kernelspec": {
   "display_name": "Python 3",
   "language": "python",
   "name": "python3"
  },
  "language_info": {
   "codemirror_mode": {
    "name": "ipython",
    "version": 3
   },
   "file_extension": ".py",
   "mimetype": "text/x-python",
   "name": "python",
   "nbconvert_exporter": "python",
   "pygments_lexer": "ipython3",
   "version": "3.6.4"
  }
 },
 "nbformat": 4,
 "nbformat_minor": 2
} 
