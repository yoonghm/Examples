{
 "cells": [
  {
   "cell_type": "markdown",
   "metadata": {},
   "source": [
    "# Function Decorators and Closures\n",
    "\n",
    "Taken from *Fluent Python* by Luciano Ramalho, published by O'Reilly Media, Inc."
   ]
  },
  {
   "cell_type": "markdown",
   "metadata": {},
   "source": [
    "## Decorators 101\n",
    "\n",
    "A **decorator** is a callable that takes another **function as argument** (the **decorated** function). The decorator may perform some processing with the decorated function, and returns it or replaces it with another function or callable object.\n",
    "\n",
    "In other words, assuming an existing decorator named `decorate`, this code:\n",
    "\n",
    "```python\n",
    "@decorate\n",
    "def target():\n",
    "  print('running target()')\n",
    "```\n",
    "\n",
    "Has the same effect as writing this:\n",
    "\n",
    "```python\n",
    "def target():\n",
    "  print('running target()')\n",
    "    \n",
    "target = decorate(target)\n",
    "```\n",
    "\n",
    "The end result is the same: at the end of either of these snippets, the `target` name does not necessarily refer to the original `target` function, but to whatever function is returned by `decorate(target)`."
   ]
  },
  {
   "cell_type": "markdown",
   "metadata": {},
   "source": [
    "*Example 1: A decorator usually replaces a function with a different one*"
   ]
  },
  {
   "cell_type": "code",
   "execution_count": 7,
   "metadata": {},
   "outputs": [
    {
     "name": "stdout",
     "output_type": "stream",
     "text": [
      "running inner()\n"
     ]
    }
   ],
   "source": [
    "def deco(func):\n",
    "  def inner():\n",
    "    print('running inner()')\n",
    "  return inner  # deco returns its inner function\n",
    "\n",
    "@deco\n",
    "def target():  # target is decorated by deco\n",
    "  print('running target()')\n",
    "\n",
    "target    # See what it points to\n",
    "target()  # It actually runs inner"
   ]
  },
  {
   "cell_type": "markdown",
   "metadata": {},
   "source": [
    "## When does Python execute decorators?\n",
    "\n",
    "Decorated function is executed right after it is defined, this is usually at *import time*, i.e., when a module is loaded by Python.\n",
    "\n",
    "In the example 2 below, the decorator `register()` run (twice) before any other function in the module.  However, the decorated functions `f1()` and `f2()` only  run whey they are explicitly invoked.  This is the difference between what Pythonistas call `import time` and `runtime`."
   ]
  },
  {
   "cell_type": "markdown",
   "metadata": {},
   "source": [
    "*Example 2: The registration.py module*"
   ]
  },
  {
   "cell_type": "code",
   "execution_count": 9,
   "metadata": {},
   "outputs": [
    {
     "name": "stdout",
     "output_type": "stream",
     "text": [
      "running register(<function f1 at 0x000001BFD82C2AE8>)\n",
      "running register(<function f2 at 0x000001BFD83711E0>)\n",
      "running main()\n",
      "register -> [<function f1 at 0x000001BFD82C2AE8>, <function f2 at 0x000001BFD83711E0>]\n",
      "running f1()\n",
      "running f2()\n",
      "running f3()\n"
     ]
    }
   ],
   "source": [
    "registry = []  # hold references to functions decorated by @register\n",
    "\n",
    "def register(func):  # takes a function as argument\n",
    "  print('running register(%s)' % func)  # show what function is being decorated\n",
    "  registry.append(func)  # append func into registry\n",
    "  return func  # Must return a function for the decorated function\n",
    "\n",
    "@register  # decorate the next function f1()\n",
    "def f1():\n",
    "  print('running f1()')\n",
    "\n",
    "@register  # decorate the next function f2()\n",
    "def f2():\n",
    "  print('running f2()')\n",
    "\n",
    "def f3():  # function f3() is not decorated\n",
    "  print('running f3()')\n",
    "\n",
    "def main():\n",
    "  print('running main()')\n",
    "  print('register ->', registry)\n",
    "  f1()\n",
    "  f2()\n",
    "  f3()\n",
    "\n",
    "if __name__ == '__main__':\n",
    "  main()"
   ]
  },
  {
   "cell_type": "markdown",
   "metadata": {},
   "source": [
    "## How decorators are commonly employed in read code\n",
    "\n",
    "*  A real decorator is usually defined in one module and is applied to functions in other modules.\n",
    "\n",
    "*  Most decorators may define an inner function and return it."
   ]
  },
  {
   "cell_type": "markdown",
   "metadata": {},
   "source": [
    "*Example 3: clockdeco.py*"
   ]
  },
  {
   "cell_type": "code",
   "execution_count": 13,
   "metadata": {},
   "outputs": [],
   "source": [
    "# %load clockdeco.py\n",
    "import time\n",
    "import functools\n",
    "\n",
    "def clock(func):\n",
    "  @functools.wraps(func)\n",
    "  def clocked(*args, **kwargs):\n",
    "    t0 = time.time()\n",
    "    result = func(*args, **kwargs)\n",
    "    elapsed = time.time() - t0\n",
    "    name = func.__name__\n",
    "    arg_lst = []\n",
    "    if args:\n",
    "      arg_lst.append(', '.join(repr(arg) for arg in args))\n",
    "    if kwargs:\n",
    "      pairs = ['%s=%r' % (k, w) for k, w in sorted(kwargs.items())]\n",
    "      arg_lst.append(', '.join(pairs))\n",
    "    arg_str = ', '.join(arg_lst)\n",
    "    print('[%0.8fs] %s(%s) -> %r ' %(elapsed, name, arg_str, result))\n",
    "    return result\n",
    "  return clocked"
   ]
  },
  {
   "cell_type": "markdown",
   "metadata": {},
   "source": [
    "*Example 4: factorial.py*"
   ]
  },
  {
   "cell_type": "code",
   "execution_count": 19,
   "metadata": {},
   "outputs": [
    {
     "name": "stdout",
     "output_type": "stream",
     "text": [
      "[0.00000000s] factorial(1) -> 1 \n",
      "[0.00000000s] factorial(2) -> 2 \n",
      "[0.00000000s] factorial(3) -> 6 \n",
      "[0.00000000s] factorial(4) -> 24 \n",
      "[0.00000000s] factorial(5) -> 120 \n",
      "[0.00000000s] factorial(6) -> 720 \n",
      "[0.00000000s] factorial(7) -> 5040 \n",
      "[0.00000000s] factorial(8) -> 40320 \n",
      "[0.00000000s] factorial(9) -> 362880 \n",
      "[0.00000000s] factorial(10) -> 3628800 \n",
      "[0.00000000s] factorial(11) -> 39916800 \n",
      "[0.00000000s] factorial(12) -> 479001600 \n",
      "[0.00000000s] factorial(13) -> 6227020800 \n",
      "[0.00000000s] factorial(14) -> 87178291200 \n",
      "[0.00000000s] factorial(15) -> 1307674368000 \n",
      "[0.00000000s] factorial(16) -> 20922789888000 \n",
      "[0.00000000s] factorial(17) -> 355687428096000 \n",
      "[0.00000000s] factorial(18) -> 6402373705728000 \n",
      "[0.00000000s] factorial(19) -> 121645100408832000 \n",
      "[0.00000000s] factorial(20) -> 2432902008176640000 \n",
      "[0.00000000s] factorial(21) -> 51090942171709440000 \n",
      "[0.00000000s] factorial(22) -> 1124000727777607680000 \n",
      "[0.00000000s] factorial(23) -> 25852016738884976640000 \n",
      "[0.00000000s] factorial(24) -> 620448401733239439360000 \n",
      "[0.00100255s] factorial(25) -> 15511210043330985984000000 \n",
      "[0.00100255s] factorial(26) -> 403291461126605635584000000 \n",
      "[0.00100255s] factorial(27) -> 10888869450418352160768000000 \n",
      "[0.00100255s] factorial(28) -> 304888344611713860501504000000 \n",
      "[0.00100255s] factorial(29) -> 8841761993739701954543616000000 \n",
      "[0.00100255s] factorial(30) -> 265252859812191058636308480000000 \n"
     ]
    }
   ],
   "source": [
    "# %load factorial.py\n",
    "from clockdeco import clock\n",
    "\n",
    "@clock\n",
    "def factorial(n):\n",
    "  return 1 if n < 2 else n*factorial(n-1)\n",
    "\n",
    "if __name__ == '__main__':\n",
    "  factorial(30)"
   ]
  },
  {
   "cell_type": "markdown",
   "metadata": {},
   "source": [
    "To run the example,"
   ]
  }
 ],
 "metadata": {
  "kernelspec": {
   "display_name": "Python 3",
   "language": "python",
   "name": "python3"
  },
  "language_info": {
   "codemirror_mode": {
    "name": "ipython",
    "version": 3
   },
   "file_extension": ".py",
   "mimetype": "text/x-python",
   "name": "python",
   "nbconvert_exporter": "python",
   "pygments_lexer": "ipython3",
   "version": "3.6.4"
  }
 },
 "nbformat": 4,
 "nbformat_minor": 2
} 
