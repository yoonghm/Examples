{
 "cells": [
  {
   "cell_type": "markdown",
   "metadata": {},
   "source": [
    "## String and Text re"
   ]
  },
  {
   "cell_type": "markdown",
   "metadata": {},
   "source": [
    "### Splitting Strings on Any of Multiple Delimiters"
   ]
  },
  {
   "cell_type": "code",
   "execution_count": null,
   "metadata": {},
   "outputs": [],
   "source": [
    "names = 'Abu bin Ahmad; Osman, Iskandar,Mohammad,   Tan Ah Kau'\n",
    "\n",
    "# Let's split the line\n",
    "names.split()"
   ]
  },
  {
   "cell_type": "markdown",
   "metadata": {},
   "source": [
    "`split()` only split text based on space(s). We need more than this.\n",
    "\n",
    "Make use of standard library **`re`**.\n",
    "\n",
    "`re.split()` support multiple delimiters, multiple patterns."
   ]
  },
  {
   "cell_type": "code",
   "execution_count": null,
   "metadata": {},
   "outputs": [],
   "source": [
    "import re\n",
    "\n",
    "re.split(r'[;,\\s]', names) # \\s means space"
   ]
  },
  {
   "cell_type": "markdown",
   "metadata": {},
   "source": [
    "It does not handle multiple space after `Mohammad`.\n",
    "\n",
    "Let's try again by combining addtional logic `\\s*` (*zero or more whitespace*)."
   ]
  },
  {
   "cell_type": "code",
   "execution_count": null,
   "metadata": {},
   "outputs": [],
   "source": [
    "re.split(r'[;,\\s]\\s*', names)"
   ]
  },
  {
   "cell_type": "markdown",
   "metadata": {},
   "source": [
    "We can use *capturing group* (pattern enclosed in parentheses) to include *matched  text* in the result."
   ]
  },
  {
   "cell_type": "code",
   "execution_count": null,
   "metadata": {},
   "outputs": [],
   "source": [
    "fields = re.split(r'(;|,|\\s)\\s*', names)\n",
    "print(fields)"
   ]
  },
  {
   "cell_type": "markdown",
   "metadata": {},
   "source": [
    "If we want to split the fields based on `;` or `,` **and** one or more spaces, then we remove `\\s` from the character set in brackets."
   ]
  },
  {
   "cell_type": "code",
   "execution_count": null,
   "metadata": {},
   "outputs": [],
   "source": [
    "re.split(r'[;,]\\s*', names)"
   ]
  },
  {
   "cell_type": "markdown",
   "metadata": {},
   "source": [
    "If we need to separate fields into values and delimiters, we can use the following method:"
   ]
  },
  {
   "cell_type": "code",
   "execution_count": null,
   "metadata": {},
   "outputs": [],
   "source": [
    "fields = re.split(r'(;|,|\\s)\\s*', names)\n",
    "values = fields[::2]\n",
    "delimiters = fields[1::2]\n",
    "print(f'values = {values}')\n",
    "print(f'delimiters = {delimiters}')"
   ]
  },
  {
   "cell_type": "markdown",
   "metadata": {},
   "source": [
    "We can join back the values and delimiters but removing additional spaces."
   ]
  },
  {
   "cell_type": "code",
   "execution_count": null,
   "metadata": {},
   "outputs": [],
   "source": [
    "''.join(v+d for v,d in zip(values, delimiters))"
   ]
  },
  {
   "cell_type": "markdown",
   "metadata": {},
   "source": [
    "There is a missing delimiter after `Kau`. Let's do again."
   ]
  },
  {
   "cell_type": "code",
   "execution_count": null,
   "metadata": {},
   "outputs": [],
   "source": [
    "''.join(v+d for v,d in zip(values, delimiters+['']))"
   ]
  },
  {
   "cell_type": "markdown",
   "metadata": {},
   "source": [
    "If we do not want the delimiters in the results but still want to use group parts, then we will use a *noncapture group* specified as `(?:...)`."
   ]
  },
  {
   "cell_type": "code",
   "execution_count": null,
   "metadata": {},
   "outputs": [],
   "source": [
    "re.split(r'(?:,|;|\\s)\\s*', names)"
   ]
  },
  {
   "cell_type": "markdown",
   "metadata": {},
   "source": [
    "### Matching Text at the Start or End of a String"
   ]
  },
  {
   "cell_type": "markdown",
   "metadata": {},
   "source": [
    "String comes with functions to check with the beginning or end of itself: `str.starts()` amd `str.endswith()`"
   ]
  },
  {
   "cell_type": "code",
   "execution_count": null,
   "metadata": {},
   "outputs": [],
   "source": [
    "filename = '/tmp/local/spam.txt'\n",
    "filename.endswith('.txt')"
   ]
  },
  {
   "cell_type": "code",
   "execution_count": null,
   "metadata": {},
   "outputs": [],
   "source": [
    "filename.startswith('/temp')"
   ]
  },
  {
   "cell_type": "code",
   "execution_count": null,
   "metadata": {},
   "outputs": [],
   "source": [
    "# import os\n",
    "# filenames = os.listdir('.')\n",
    "filenames = ['Makefile', 'foo.c', 'bar.py', 'spam.c', 'spam.h']"
   ]
  },
  {
   "cell_type": "markdown",
   "metadata": {},
   "source": [
    "`... for ... in ...` is a generator expression, which generates a result which must be  converted to list, tuple or dict (if applicable)\n",
    "\n",
    "If we need to check against multiple choices with for `endswith()` and `startswith()`, we need to put the filters in **tuple**."
   ]
  },
  {
   "cell_type": "code",
   "execution_count": null,
   "metadata": {},
   "outputs": [],
   "source": [
    "[name for name in filenames if name.endswith(('.c', '.h'))]"
   ]
  },
  {
   "cell_type": "code",
   "execution_count": null,
   "metadata": {},
   "outputs": [],
   "source": [
    "any(name.endswith('.py') for name in filenames)"
   ]
  },
  {
   "cell_type": "markdown",
   "metadata": {},
   "source": [
    "We can use `re.match()` to match but it may be overfill."
   ]
  },
  {
   "cell_type": "code",
   "execution_count": null,
   "metadata": {},
   "outputs": [],
   "source": [
    "any(re.match('.*.c|.*.h', name) for name in filenames)"
   ]
  },
  {
   "cell_type": "code",
   "execution_count": null,
   "metadata": {},
   "outputs": [],
   "source": [
    "files = list(name for name in filenames if re.match(r'.*[ch]$', name))\n",
    "print(files)"
   ]
  },
  {
   "cell_type": "markdown",
   "metadata": {},
   "source": [
    "### Extract Matched Information"
   ]
  },
  {
   "cell_type": "code",
   "execution_count": null,
   "metadata": {},
   "outputs": [],
   "source": [
    "timestr = '5h23m'\n",
    "\n",
    "# To extract hours and minutes from timestr\n",
    "matchObj = re.match(r'(\\d+)h(\\d+)m', timestr)\n",
    "if matchObj:\n",
    "  print(f\"hours={matchObj.group(1)} minutes={matchObj.group(2)}\")\n",
    "else:\n",
    "  print(\"No match\")"
   ]
  },
  {
   "cell_type": "code",
   "execution_count": null,
   "metadata": {},
   "outputs": [],
   "source": [
    "# To extract hours and minutes from timestr and put them in dictionary\n",
    "matchObj = re.match(r'(?P<hours>\\d+)h(?P<minutes>\\d+)m', timestr)\n",
    "if matchObj:\n",
    "  print(f\"hours={matchObj.group(1)} minutes={matchObj.group(2)}\")\n",
    "  print(matchObj.groupdict())  ## Note: values are in string\n",
    "else:\n",
    "  print(\"No match\")"
   ]
  },
  {
   "cell_type": "code",
   "execution_count": null,
   "metadata": {},
   "outputs": [],
   "source": []
  }
 ],
 "metadata": {
  "kernelspec": {
   "display_name": "Python 3",
   "language": "python",
   "name": "python3"
  },
  "language_info": {
   "codemirror_mode": {
    "name": "ipython",
    "version": 3
   },
   "file_extension": ".py",
   "mimetype": "text/x-python",
   "name": "python",
   "nbconvert_exporter": "python",
   "pygments_lexer": "ipython3",
   "version": "3.6.4"
  }
 },
 "nbformat": 4,
 "nbformat_minor": 2
}
